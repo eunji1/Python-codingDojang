{
 "cells": [
  {
   "cell_type": "markdown",
   "metadata": {},
   "source": [
    "# 핵심정리"
   ]
  },
  {
   "cell_type": "markdown",
   "metadata": {},
   "source": [
    "## 특정 조건일 때 코드를 실행하기\n",
    "\n",
    "if 조건문에 조건식을 지정하면 해당 조건을 만족할 때 코드를 실행할 수 있다.\n",
    "\n",
    "```\n",
    "if 조건식:\n",
    "    코드    # 조건식 만족할 때 코드 실행\n",
    "```"
   ]
  },
  {
   "cell_type": "markdown",
   "metadata": {},
   "source": [
    "## 두 방향으로 분기하기\n",
    "\n",
    "if와 else를 사용하면 조건식을 만족할 때와 만족하지 않을 때 각각 다른 코드를 실행할 수 있다.\n",
    "\n",
    "```\n",
    "if 조건식:\n",
    "    코드1   # 조건식을 만족할 때 코드 실행\n",
    "else:\n",
    "    코드2   # 조건식을 만족하지 않을 때 코드 실행\n",
    "```\n"
   ]
  },
  {
   "cell_type": "markdown",
   "metadata": {},
   "source": [
    "## 여러 방향으로 분기하기\n",
    "\n",
    "elif는 여러 개의 조건식을 지정하여 각각 다른 코드를 실행할 수 있다.\n",
    "```\n",
    "if 조건식1:\n",
    "    코드1    # 조건식1을 만족할 때 코드 실행\n",
    "elif 조건식2:\n",
    "    코드2    # 조건식2을 만족할 때 코드 실행\n",
    "elif 조건식3:\n",
    "    코드3    # 조건식3을 만족할 때 코드 실행\n",
    "else:\n",
    "    코드4    # 어떤 조건도 만족하지 않을 때 코드 실행\n",
    "```"
   ]
  },
  {
   "cell_type": "markdown",
   "metadata": {},
   "source": [
    "## 조건식과 == 연산자\n",
    "\n",
    "조건식을 작성할 때 == 연산자 대신 = 연산자를 사용하는 실수를 하지않도록 주의\n",
    "\n",
    "```\n",
    "if x == 1:    # 올바른 조건식\n",
    "    print(x)\n",
    "\n",
    "if x = 1:     # 잘못된 조건식\n",
    "    print(x)\n",
    "```"
   ]
  },
  {
   "cell_type": "markdown",
   "metadata": {},
   "source": [
    "## 참과 거짓\n",
    "\n",
    "파이썬에서 참은 True, 거짓은 False를 사용하지만 다음 값들도 True 또는 False로 취급되므로 조건식을 작성할 때 주의해야 합니다.\n",
    "\n",
    "- True로 취급: 0이 아닌 숫자, 내용이 있는 문자열, 리스트, 튜플, 딕셔너리, 세트\n",
    "- False로 취급: 0, None, 비어 있는 문자열, 리스트, 튜플, 딕셔너리, 세트"
   ]
  }
 ],
 "metadata": {
  "language_info": {
   "name": "python"
  },
  "orig_nbformat": 4
 },
 "nbformat": 4,
 "nbformat_minor": 2
}
