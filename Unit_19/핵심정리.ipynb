{
 "cells": [
  {
   "cell_type": "markdown",
   "metadata": {},
   "source": [
    "# 핵심정리"
   ]
  },
  {
   "cell_type": "markdown",
   "metadata": {},
   "source": [
    "## 반복할 횟수를 지정하여 반복하기\n",
    "for 반복문은 반복할 횟수를 지정하여 반복할 수 있다.<br> range에 반복할 횟수를 지정하고 앞에 in과 변수를 지정\n",
    "```\n",
    "for 변수 in range(횟수):\n",
    "    반복할 코드\n",
    "\n",
    "```"
   ]
  },
  {
   "cell_type": "markdown",
   "metadata": {},
   "source": [
    "## 반복할 횟수가 정해져 있지 않을 때 반복하기\n",
    "while 반복문은 반복 횟수가 정해져 있지 않을 때, 논리 조건에 따라 반복 여부를 결정할 때 사용<br>\n",
    "조건식이 만족하면 계속 반복하고, 만족하지 않으면 반복을 끝냄\n",
    "\n",
    "```\n",
    "초기식\n",
    "while 조건식:\n",
    "    반복할 코드\n",
    "    조건식의 결과에 영향을 주는 코드(변화식)\n",
    "```\n",
    "\n",
    "## 반복문 끝내기\n",
    "반복문에서 break를 사용하면 반복문을 끝낼 수 있다.\n",
    "```\n",
    "while 조건식1:\n",
    "    if 조건식2:\n",
    "        break   # 반복문을 끝냄\n",
    "```\n",
    "\n",
    "## 반복문의 코드 건너뛰기\n",
    "반복문에서 continue를 사용하면 반복문의 일부 코드를 건너뛸 수 있다.<br>\n",
    "단, 반복문을 끝내지 않고 계속 반복\n",
    "```\n",
    "while 조건식1:\n",
    "    if 조건식2:\n",
    "        continue    #아래 코드를 건너뛴 뒤 계속 반복\n",
    "    코드\n",
    "```\n",
    "\n"
   ]
  },
  {
   "cell_type": "markdown",
   "metadata": {},
   "source": [
    "## 중첩 루프\n",
    "반복문 안에 반복문이 들어있는 형태를 중첩 루프라고 하며 루프 인덱스 변수는 i부터 순서대로 짓는다.\n",
    "- 예) i, j, k\n",
    "\n",
    "중첩 루프는 주로 가로x세로 형태로 된 2차원 평면을 다룰 때 사용\n",
    "```\n",
    "for i in range(10):        # 바깥쪽 루프\n",
    "    for j in range(10):    # 안쪽 루프\n",
    "        pass\n",
    "```"
   ]
  },
  {
   "cell_type": "markdown",
   "metadata": {},
   "source": [
    "## 반복문과 들여쓰기\n",
    "for, while 다음에 오는 코드는 반드시 들여쓰기를 해야하고, 깊이가 같아야 한다.\n",
    "```\n",
    "# step1\n",
    "\n",
    "for i in range(10):\n",
    "\n",
    "    print(i)    # 올바른 코드\n",
    "\n",
    "# step2\n",
    "\n",
    "while i < 10:\n",
    "\n",
    "    print(i)     # 올바른 코드\n",
    "\n",
    "    i += 1       # 올바른 코드\n",
    "```\n"
   ]
  }
 ],
 "metadata": {
  "language_info": {
   "name": "python"
  },
  "orig_nbformat": 4
 },
 "nbformat": 4,
 "nbformat_minor": 2
}
